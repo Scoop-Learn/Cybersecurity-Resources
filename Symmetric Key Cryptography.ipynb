{
 "cells": [
  {
   "cell_type": "markdown",
   "metadata": {},
   "source": [
    "## Stream Ciphers"
   ]
  },
  {
   "cell_type": "markdown",
   "metadata": {},
   "source": [
    "## RC4\n",
    "\n",
    "Implementation details found here https://en.wikipedia.org/wiki/RC4"
   ]
  },
  {
   "cell_type": "code",
   "execution_count": 131,
   "metadata": {},
   "outputs": [],
   "source": [
    "def KSA(key):\n",
    "    key_length = len(key)\n",
    "    S = [0 for i in range(256)]\n",
    "    for i in range(256):\n",
    "        S[i] = i\n",
    "    j = 0\n",
    "    for i in range(256):\n",
    "         j = (j + S[i] + key[i % key_length]) % 256\n",
    "         S[i], S[j] = S[j], S[i]\n",
    "    return S\n",
    "         \n",
    "def PRGA(S):\n",
    "    i = 0\n",
    "    j = 0\n",
    "    while True:\n",
    "         i = (i + 1) % 256\n",
    "         j = (j + S[i]) % 256\n",
    "         S[i], S[j] = S[j], S[i]\n",
    "         K = S[(S[i] + S[j]) % 256]\n",
    "         yield K\n",
    "\n",
    "def RC4(key):\n",
    "    S = KSA(key.encode())\n",
    "    return PRGA(S), S\n",
    "\n",
    "def encrypt(key, plaintext):\n",
    "    cipher, S = RC4(key)\n",
    "    plaintext = plaintext.encode()\n",
    "    ciphertext = []\n",
    "    for i in range(len(plaintext)):\n",
    "        ciphertext.append(plaintext[i] ^ next(cipher))\n",
    "    return plaintext, bytes(ciphertext).hex()\n",
    "\n",
    "def decrypt(key, ciphertext):\n",
    "    cipher, S = RC4(key)\n",
    "    plaintext = []\n",
    "    for i in range(len(ciphertext)):\n",
    "        plaintext.append(ciphertext[i] ^ next(cipher))\n",
    "    return plaintext\n",
    "\n",
    "    "
   ]
  },
  {
   "cell_type": "code",
   "execution_count": 132,
   "metadata": {},
   "outputs": [
    {
     "name": "stdout",
     "output_type": "stream",
     "text": [
      "(b'Plaintext', 'bbf316e8d940af0ad3')\n",
      "(b'pedia', '1021bf0420')\n",
      "(b'Attack at dawn', '45a01f645fc35b383552544b9bf5')\n"
     ]
    }
   ],
   "source": [
    "# Test vectors from Wikipedia\n",
    "print(encrypt('Key', 'Plaintext'))\n",
    "print(encrypt('Wiki', 'pedia'))\n",
    "print(encrypt('Secret', 'Attack at dawn'))"
   ]
  },
  {
   "cell_type": "code",
   "execution_count": 133,
   "metadata": {},
   "outputs": [
    {
     "name": "stdout",
     "output_type": "stream",
     "text": [
      "aa010ed5a4e3b1ad9ba506a746509805fc2684\n",
      "a25516dbb1edb1af9dfc12b25e59cb45ad6fdc\n",
      "[8, 84, 24, 14, 21, 14, 0, 2, 6, 89, 20, 21, 24, 9, 83, 64, 81, 73, 88]\n",
      "b'k&a~aagpg)|l'\n",
      "b'7jwezoet8d}a'\n",
      "b'{|l~tma+uepp'\n",
      "b'mgwpvi>ftha*'\n",
      "b'v|yrr6sgyy;9'\n",
      "b'mr{v-{rjh#(('\n",
      "b'cp\\x7f)`z\\x7f{2090'\n",
      "b'at dawn!!!!!'\n",
      "b'e+melf42090'\n",
      "b\":flh}<'#((\"\n",
      "b\"wgay'/6;9\"\n",
      "b'vjp#4>.*'\n",
      "b'{{*0%&?'\n",
      "b'j!9!=7'\n",
      "b'02(9,'\n",
      "b'##0('\n",
      "b'2;!'\n",
      "b'**'\n",
      "b';'\n"
     ]
    }
   ],
   "source": [
    "# Reused Key Attack\n",
    "\n",
    "key = 'yeet'\n",
    "plaintext1 = 'I love cryptography'\n",
    "plaintext2 = 'Attack at dawn!!!!!'\n",
    "\n",
    "ciphertext1 = encrypt(key, plaintext1)[1]\n",
    "ciphertext2 = encrypt(key, plaintext2)[1]\n",
    "\n",
    "print(ciphertext1)\n",
    "print(ciphertext2)\n",
    "\n",
    "def xor(a, b):\n",
    "    return [x ^ y for x, y in zip(a, b)]\n",
    "\n",
    "reused_key = xor(bytes.fromhex(ciphertext1), bytes.fromhex(ciphertext2))\n",
    "print(reused_key)\n",
    "\n",
    "# Suppose we guessed that \"cryptography\" is contained in one of the plaintext.\n",
    "guess = b'cryptography'\n",
    "for i in range(0, len(reused_key)):\n",
    "    candidate = xor(reused_key[i:i+len(guess)], guess)\n",
    "    print(bytes(candidate))\n"
   ]
  },
  {
   "cell_type": "code",
   "execution_count": 135,
   "metadata": {},
   "outputs": [
    {
     "name": "stdout",
     "output_type": "stream",
     "text": [
      "$1000 transfered\n",
      "c710528ae2a6e5bc88b205b54c458f00\n",
      "$9000 transfered\n"
     ]
    }
   ],
   "source": [
    "# Bit Flipping Attack\n",
    "# Assumption: Attacker knows part of the plaintext\n",
    "\n",
    "key = 'yeet'\n",
    "plaintext = \"$1000 transfered\"\n",
    "ciphertext = encrypt(key, plaintext)[1]\n",
    "\n",
    "print(plaintext)\n",
    "print(ciphertext)\n",
    "\n",
    "# At this point the attacker alters ciphertext by XORing with (\"$1000 XOR $9000\")\n",
    "a = bytes.fromhex(ciphertext)\n",
    "payload = xor(b\"$1000\" , b\"$9000\")\n",
    "payload = bytes(xor(a[:len(payload)], bytes(payload))) + a[5:]\n",
    "d = decrypt(key, payload)\n",
    "print(bytes(d).decode())"
   ]
  },
  {
   "cell_type": "markdown",
   "metadata": {},
   "source": [
    "# Block Ciphers"
   ]
  },
  {
   "cell_type": "markdown",
   "metadata": {},
   "source": [
    "## ECB Mode"
   ]
  },
  {
   "cell_type": "code",
   "execution_count": 147,
   "metadata": {},
   "outputs": [
    {
     "name": "stdout",
     "output_type": "stream",
     "text": [
      "b'I love ECB mode' b'\\xaa\\x01\\xce\\x85\\x8c\\xb0I\\xfd\\xb1~\\xd7\\xa5\\x86\\x92\\xbe>' b'I love ECB mode\\x01'\n"
     ]
    }
   ],
   "source": [
    "import base64\n",
    "from Crypto.Cipher import AES\n",
    "from Crypto.Util.Padding import pad\n",
    "from Crypto.Random import get_random_bytes\n",
    "from Crypto.Util.strxor import strxor\n",
    "\n",
    "\n",
    "def get_blocks(s, block_size=16):\n",
    "    return [s[i:i+block_size] for i in range(0, len(s), block_size)]\n",
    "\n",
    "def aes_ecb_decrypt(ciphertext, key):\n",
    "    cipher = AES.new(key, AES.MODE_ECB)\n",
    "    return cipher.decrypt(ciphertext)\n",
    "\n",
    "def aes_ecb_encrypt(plaintext, key):\n",
    "    cipher = AES.new(key, AES.MODE_ECB)\n",
    "    return cipher.encrypt(plaintext)\n",
    "\n",
    "KEY = get_random_bytes(16)\n",
    "plaintext = b\"I love ECB mode\"\n",
    "ciphertext = aes_ecb_encrypt(pad(plaintext, 16), KEY)\n",
    "\n",
    "print(plaintext, ciphertext, aes_ecb_decrypt(ciphertext, KEY))"
   ]
  },
  {
   "cell_type": "markdown",
   "metadata": {},
   "source": [
    "## CBC Mode"
   ]
  },
  {
   "cell_type": "code",
   "execution_count": 149,
   "metadata": {},
   "outputs": [
    {
     "name": "stdout",
     "output_type": "stream",
     "text": [
      "b'I love CBC mode' b'\\xf6\\xea\\xe9\\xc8\\xb4\\x8f\\xd5\\x98\\x05\\xdb\\xb9?\\xac\\xf8 \\x94' b'I love CBC mode\\x01'\n"
     ]
    }
   ],
   "source": [
    "def aes_cbc_encrypt(plaintext, key, IV):\n",
    "    blocks = get_blocks(plaintext)\n",
    "    prev = IV\n",
    "    ciphertext = b''\n",
    "    for block in blocks:\n",
    "        cipher_i = aes_ecb_encrypt(strxor(prev, block), key)\n",
    "        ciphertext += cipher_i\n",
    "        prev = cipher_i\n",
    "    return ciphertext\n",
    "\n",
    "def aes_cbc_decrypt(ciphertext, key, IV):\n",
    "    blocks = get_blocks(ciphertext)\n",
    "    prev = IV\n",
    "    plaintext = b''\n",
    "    for block in blocks:\n",
    "        plain_i = strxor(aes_ecb_decrypt(block, key), prev)\n",
    "        plaintext += plain_i\n",
    "        prev = block\n",
    "    return plaintext\n",
    "\n",
    "KEY = get_random_bytes(16)\n",
    "IV = get_random_bytes(16)\n",
    "plaintext = b\"I love CBC mode\"\n",
    "ciphertext = aes_cbc_encrypt(pad(plaintext, 16), KEY, IV)\n",
    "\n",
    "print(plaintext, ciphertext, aes_cbc_decrypt(ciphertext, KEY, IV))"
   ]
  },
  {
   "cell_type": "code",
   "execution_count": 157,
   "metadata": {},
   "outputs": [
    {
     "name": "stdout",
     "output_type": "stream",
     "text": [
      "16\n",
      "True\n",
      "u\n",
      "ut\n",
      "utf\n",
      "utfl\n",
      "utfla\n",
      "utflag\n",
      "utflag{\n",
      "utflag{t\n",
      "utflag{th\n",
      "utflag{thi\n",
      "utflag{this\n",
      "utflag{this_\n",
      "utflag{this_i\n",
      "utflag{this_is\n",
      "utflag{this_is_\n",
      "utflag{this_is_s\n",
      "utflag{this_is_se\n",
      "utflag{this_is_sec\n",
      "utflag{this_is_secr\n",
      "utflag{this_is_secre\n",
      "utflag{this_is_secret\n",
      "utflag{this_is_secret_\n",
      "utflag{this_is_secret_s\n",
      "utflag{this_is_secret_st\n",
      "utflag{this_is_secret_str\n",
      "utflag{this_is_secret_stri\n",
      "utflag{this_is_secret_strin\n",
      "utflag{this_is_secret_string\n",
      "utflag{this_is_secret_string}\n",
      "utflag{this_is_secret_string}\u0001\n",
      "utflag{this_is_secret_string}\u0001\n",
      "utflag{this_is_secret_string}\u0001\n",
      "utflag{this_is_secret_string}\u0001\n",
      "utflag{this_is_secret_string}\u0001\n",
      "utflag{this_is_secret_string}\u0001\n",
      "utflag{this_is_secret_string}\u0001\n",
      "utflag{this_is_secret_string}\u0001\n",
      "utflag{this_is_secret_string}\u0001\n",
      "utflag{this_is_secret_string}\u0001\n",
      "utflag{this_is_secret_string}\u0001\n",
      "utflag{this_is_secret_string}\u0001\n",
      "utflag{this_is_secret_string}\u0001\n",
      "utflag{this_is_secret_string}\u0001\n",
      "utflag{this_is_secret_string}\u0001\n",
      "utflag{this_is_secret_string}\u0001\n",
      "utflag{this_is_secret_string}\u0001\n",
      "utflag{this_is_secret_string}\u0001\n",
      "utflag{this_is_secret_string}\u0001\n"
     ]
    }
   ],
   "source": [
    "# Assume we have an encryption oracle that appends a secret string after the string.\n",
    "\n",
    "def encryption_oracle(plaintext):\n",
    "\n",
    "    secret = b'utflag{this_is_secret_string}'\n",
    "\n",
    "    plaintext = pad(plaintext + secret, 16)\n",
    "    return aes_ecb_encrypt(plaintext, KEY)\n",
    "\n",
    "def get_block_size(upper=100):\n",
    "    length = len(encryption_oracle(b'A'))\n",
    "    for i in range(1, upper):\n",
    "        payload = ('A'*i).encode()\n",
    "        ciphertext = encryption_oracle(payload)\n",
    "        if len(ciphertext) != length:\n",
    "            return len(ciphertext) - length\n",
    "    return -1\n",
    "\n",
    "def detect_ecb(block_size):\n",
    "    payload = ('A'*(2*block_size)).encode()\n",
    "    ciphertext = encryption_oracle(payload)\n",
    "    return ciphertext[0:block_size] == ciphertext[block_size:2*block_size]\n",
    "\n",
    "\n",
    "# Get block size\n",
    "block_size = get_block_size()\n",
    "print(block_size)\n",
    "\n",
    "# Detect ECB\n",
    "print(detect_ecb(block_size))\n",
    "\n",
    "# Attack all blocks\n",
    "secret = ''\n",
    "prev = ''\n",
    "for block in range(100):\n",
    "    for i in range(0, block_size):\n",
    "        init = 'A' * (block_size - i - 1)\n",
    "        byte = encryption_oracle(init.encode())[block_size * block:block*block_size + block_size]\n",
    "        d = {}\n",
    "        for c in range(256):\n",
    "            payload =  ('A' * (block_size - i - 1)) + secret + chr(c)\n",
    "            # print(payload)\n",
    "            ciphertext = encryption_oracle(payload.encode())\n",
    "            d[chr(c)] = ciphertext[block_size * block:block*block_size + block_size]\n",
    "        for key in d.keys():\n",
    "            if d[key] == byte:\n",
    "                secret += key\n",
    "        print(secret)\n",
    "    if len(prev) == len(secret):\n",
    "        break\n",
    "\n",
    "    prev = secret\n"
   ]
  },
  {
   "cell_type": "markdown",
   "metadata": {},
   "source": [
    "## Bit Flipping\n",
    "https://crypto.stackexchange.com/questions/66085/bit-flipping-attack-on-cbc-mode\n",
    "\n",
    "## Padding Oracle\n",
    "https://robertheaton.com/2013/07/29/padding-oracle-attack/"
   ]
  },
  {
   "cell_type": "code",
   "execution_count": null,
   "metadata": {},
   "outputs": [],
   "source": []
  }
 ],
 "metadata": {
  "kernelspec": {
   "display_name": "Python 3",
   "language": "python",
   "name": "python3"
  },
  "language_info": {
   "codemirror_mode": {
    "name": "ipython",
    "version": 3
   },
   "file_extension": ".py",
   "mimetype": "text/x-python",
   "name": "python",
   "nbconvert_exporter": "python",
   "pygments_lexer": "ipython3",
   "version": "3.7.3"
  }
 },
 "nbformat": 4,
 "nbformat_minor": 2
}
